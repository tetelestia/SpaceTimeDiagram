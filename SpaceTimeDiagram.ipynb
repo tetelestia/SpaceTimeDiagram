{
 "cells": [
  {
   "cell_type": "code",
   "execution_count": 1,
   "metadata": {
    "collapsed": false
   },
   "outputs": [
    {
     "name": "stdout",
     "output_type": "stream",
     "text": [
      "gamma = 1.15470053838\n",
      "\n",
      "beta = 0.5\n",
      "1/beta = 2.0\n"
     ]
    }
   ],
   "source": [
    "import matplotlib.pyplot as plt\n",
    "import numpy as np\n",
    "import math\n",
    "\n",
    "#Uncomment the following two lines to have the plot displayed inline (in the ipython window)\n",
    "#%pylab inline\n",
    "#plt.rcParams['figure.figsize'] = (16, 10)\n",
    "\n",
    "beta = 0.5\n",
    "gamma = 1 / (1 - beta**2)**0.5\n",
    "\n",
    "print \"gamma =\", gamma\n",
    "print \"\\nbeta =\", beta\n",
    "print \"1/beta =\", 1/beta"
   ]
  },
  {
   "cell_type": "code",
   "execution_count": 18,
   "metadata": {
    "collapsed": false,
    "scrolled": true
   },
   "outputs": [],
   "source": [
    "interval = 1\n",
    "grid_spacing = interval\n",
    "\n",
    "ctmin = -5\n",
    "xmin = -5\n",
    "ctmax = 5\n",
    "xmax = 5\n",
    "\n",
    "##Setup Housekeeping\n",
    "points_x = []\n",
    "points_ct = []\n",
    "for i in range(1,50):                             \n",
    "    points_x.append(gamma * interval * i)\n",
    "    points_x.append(-gamma * interval * i)\n",
    "    points_ct.append(gamma * beta * interval * i) \n",
    "    points_ct.append(-gamma * beta * interval * i)\n",
    "plt.plot(points_x,points_ct, 'ro')   #Plots data points for the x axis of S' frame      \n",
    "points_x = []\n",
    "points_ct = []\n",
    "for i in range(1,50):                             \n",
    "    points_ct.append(gamma * interval * i)\n",
    "    points_ct.append(-gamma * interval * i)\n",
    "    points_x.append(gamma * beta * interval * i) \n",
    "    points_x.append(-gamma * beta * interval * i)\n",
    "plt.plot(points_x,points_ct, 'ro')   #Plots data points for the ct axis of S' frame\n",
    "plt.ylim([ctmin,ctmax])  #ct axis limits\n",
    "plt.xlim([xmin,xmax])    #x axis limits\n",
    "plt.plot([xmin,xmax], [beta * xmin, beta * xmax], color = 'red', lw=0.5)          #Line for x axis of S' frame\n",
    "plt.plot([xmin,xmax], [(1/beta) * xmin, (1/beta) * xmax], color = 'red', lw=0.5)  #Line for ct axis of S' frame\n",
    "plt.axhline(0, color='black')   #Draws x axis\n",
    "plt.axvline(0, color='black')   #Draws ct axis\n",
    "plt.xticks(np.arange(xmin, xmax, grid_spacing))   #Sets grid spacing\n",
    "plt.yticks(np.arange(ctmin, ctmax, grid_spacing))\n",
    "plt.grid() #Draws grid\n",
    "\n",
    "\n",
    "\n",
    "#plt.plot((x1, x2), (y1, y2))\n",
    "plt.plot([-1.15463,0], [-0.578,0], color ='green', lw=4)\n",
    "plt.plot([-1.73-.86,1.73-.86], [-3.46,3.46], color ='green', lw=2)\n",
    "#plt.plot([0,-6], [0,6], color ='yellow', lw=2)\n",
    "\n",
    "\n",
    "#speed of light lines\n",
    "#plt.plot([-50,50],[-50,50], color='yellow', lw=2)  #positive\n",
    "plt.plot([-50,50],[50,-50], color='yellow', lw=2)   #negative\n",
    "\n",
    "\n",
    "plt.show()  #Displays plot"
   ]
  },
  {
   "cell_type": "code",
   "execution_count": null,
   "metadata": {
    "collapsed": false
   },
   "outputs": [],
   "source": [
    "\n"
   ]
  },
  {
   "cell_type": "code",
   "execution_count": null,
   "metadata": {
    "collapsed": true
   },
   "outputs": [],
   "source": []
  }
 ],
 "metadata": {
  "kernelspec": {
   "display_name": "Python 2",
   "language": "python",
   "name": "python2"
  },
  "language_info": {
   "codemirror_mode": {
    "name": "ipython",
    "version": 2
   },
   "file_extension": ".py",
   "mimetype": "text/x-python",
   "name": "python",
   "nbconvert_exporter": "python",
   "pygments_lexer": "ipython2",
   "version": "2.7.10"
  }
 },
 "nbformat": 4,
 "nbformat_minor": 0
}
